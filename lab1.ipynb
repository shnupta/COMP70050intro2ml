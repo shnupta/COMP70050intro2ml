{
  "nbformat": 4,
  "nbformat_minor": 0,
  "metadata": {
    "colab": {
      "name": "lab1.ipynb",
      "provenance": [],
      "collapsed_sections": [],
      "toc_visible": true
    },
    "kernelspec": {
      "name": "python3",
      "display_name": "Python 3"
    }
  },
  "cells": [
    {
      "cell_type": "markdown",
      "metadata": {
        "id": "_MBmOdXoenFw"
      },
      "source": [
        "# Lab 1: Building a Machine Learning Pipeline\n"
      ]
    },
    {
      "cell_type": "markdown",
      "metadata": {
        "id": "_3iS23ADfo4w"
      },
      "source": [
        "## Version history\n",
        "\n",
        "| Date | Author | Description |\n",
        "|:----:|:------:|:------------|\n",
        "2021-01-12 | Josiah Wang | First version | \n",
        "2021-01-18 | Josiah Wang | Updated the description of the nearest neighbour classifier to make it clearer   |\n",
        "2021-01-19 | Josiah Wang | Clarified the terms categories and classes, both referring to classification labels |"
      ]
    },
    {
      "cell_type": "markdown",
      "metadata": {
        "id": "_EbbkgqOgZK_"
      },
      "source": [
        "## Introduction\n",
        "\n",
        "The aim of this lab exercise is to give you some practical experience in building a full machine learning pipeline in Python and NumPy.\n",
        "\n",
        "By the end of this lab exercise, you will have constructed a full pipeline for a classification task: \n",
        "- reading and processing the dataset\n",
        "- examining your data/features\n",
        "- building a baseline classifier\n",
        "- building a simple nearest neighbour classifier\n",
        "- evaluating the performance of the classifier with the accuracy metric.\n"
      ]
    },
    {
      "cell_type": "markdown",
      "metadata": {
        "id": "k1PH_TJZhf-c"
      },
      "source": [
        "## Dataset\n",
        "\n",
        "We will work with the Iris dataset in this lab exercise. This is a classic dataset from 1936 often used for teaching machine learning techniques.\n",
        "\n",
        "Let's first download this dataset."
      ]
    },
    {
      "cell_type": "code",
      "metadata": {
        "id": "NdL1OHXvifcA",
        "colab": {
          "base_uri": "https://localhost:8080/"
        },
        "outputId": "48ca6347-3420-4c63-84ac-0d0ae7150167"
      },
      "source": [
        "# Download iris data if it does not exist\n",
        "# ! runs a bash command, so !ls will run the ls command on the virtual machine\n",
        "import os\n",
        "\n",
        "if not os.path.exists(\"iris.data\"):\n",
        "    !wget -O iris.data https://archive.ics.uci.edu/ml/machine-learning-databases/iris/iris.data"
      ],
      "execution_count": 1,
      "outputs": [
        {
          "output_type": "stream",
          "name": "stdout",
          "text": [
            "--2021-10-12 12:28:50--  https://archive.ics.uci.edu/ml/machine-learning-databases/iris/iris.data\n",
            "Resolving archive.ics.uci.edu (archive.ics.uci.edu)... 128.195.10.252\n",
            "Connecting to archive.ics.uci.edu (archive.ics.uci.edu)|128.195.10.252|:443... connected.\n",
            "HTTP request sent, awaiting response... 200 OK\n",
            "Length: 4551 (4.4K) [application/x-httpd-php]\n",
            "Saving to: ‘iris.data’\n",
            "\n",
            "iris.data           100%[===================>]   4.44K  --.-KB/s    in 0s      \n",
            "\n",
            "2021-10-12 12:28:50 (135 MB/s) - ‘iris.data’ saved [4551/4551]\n",
            "\n"
          ]
        }
      ]
    },
    {
      "cell_type": "markdown",
      "metadata": {
        "id": "fywysYw13usm"
      },
      "source": [
        "### Examining the dataset\n",
        "\n",
        "Now try to take a quick look at `iris.data`. The simple code snippet below will allow you to read from a file line by line. \n",
        "\n",
        "Note that we will use the terms *categories* and *classes* interchangably to mean classification labels. *Class* may also occasionally refer to the OOP sense of classes, which are different from classification labels.\n",
        "\n",
        "Try to answer these questions while you examine the data:\n",
        "- How many attributes/features are there?\n",
        "- What kind of features are they? Categorical? Integers? Continuous real numbers?\n",
        "- How many categories/classes are used in this dataset?\n",
        "- How many instances are there in total?\n",
        "- How many instances are there *per category*? (Is this a balanced dataset?)"
      ]
    },
    {
      "cell_type": "code",
      "metadata": {
        "id": "lgPVrvw_jngI"
      },
      "source": [
        "# Examine the file to understand its structure\n",
        "for line in open(\"iris.data\"):\n",
        "    print(line.strip())"
      ],
      "execution_count": null,
      "outputs": []
    },
    {
      "cell_type": "markdown",
      "metadata": {
        "id": "KtLcMgSN3XrI"
      },
      "source": [
        "### Read and store the instances and labels\n",
        "\n",
        "Now, we will try to properly read in the data and store them into the variables `x` and `y`.\n",
        "\n",
        "Depending on your algorithm, you can sometimes just use the string labels directly as `y` (i.e. `Iris-setosa`, `Iris-versicolor`, `Iris-virginica`). It is, however, often converted to integers (`0`, `1`, `2`).\n",
        "\n",
        "Complete the function `read_dataset()` below that takes in the filepath (a string), and returns a tuple containing the numpy arrays `x` and `y` and also the list of class labels. \n",
        "\n",
        "- `x` is a numpy array with shape `(N, K)`, where `N` is the number of examples and `K` the number of attributes/features.\n",
        "\n",
        "- `y` is a numpy array with shape `(N, )`, where each element in the array is an integer from 0 to `C`, and `C` is the number of categories/classes.\n",
        "\n",
        "- `classes` is a numpy array with shape `(C, )`, containing the label for each of the class (category).\n",
        "\n",
        "Hint: For computing `y` from the string labels, use `np.unique()` with the keyword argument `return_inverse=True` to easily get the unique class labels and the mapping to the labels at the same time. Or you can also just write this from scratch in Python - I don't mind!\n"
      ]
    },
    {
      "cell_type": "code",
      "metadata": {
        "id": "oC9S6oGZkWH7"
      },
      "source": [
        "# Let's warm up with a little Python file reading exercise!\n",
        "# Complete the function below to read the file and store the instances as \n",
        "# feature vectors x and labels y\n",
        "\n",
        "import numpy as np\n",
        "\n",
        "def read_dataset(filepath):\n",
        "    \"\"\" Read in the dataset from the specified filepath\n",
        "\n",
        "    Args:\n",
        "        filepath (str): The filepath to the dataset file\n",
        "\n",
        "    Returns:\n",
        "        tuple: returns a tuple of (x, y, classes), each being a numpy array. \n",
        "               - x is a numpy array with shape (N, K), \n",
        "                   where N is the number of instances\n",
        "                   K is the number of features/attributes\n",
        "               - y is a numpy array with shape (N, ), and each element should be \n",
        "                   an integer from 0 to C-1 where C is the number of classes \n",
        "               - classes : a numpy array with shape (C, ), which contains the \n",
        "                   unique class labels corresponding to the integers in y\n",
        "    \"\"\"\n",
        "\n",
        "    # TODO: Complete this function\n",
        "    xs = []\n",
        "    labels = []\n",
        "    for line in open(filepath):\n",
        "      if line.strip() == \"\":\n",
        "        continue\n",
        "      cols = line.strip().split(\",\")\n",
        "      xs.append(np.array(cols[:-1]).astype(np.float))\n",
        "      labels.append(cols[-1])\n",
        "    \n",
        "    x = np.array(xs)\n",
        "    classes, y = np.unique(labels, return_inverse=True)\n",
        "\n",
        "    return (x, y, classes)\n",
        "\n"
      ],
      "execution_count": 40,
      "outputs": []
    },
    {
      "cell_type": "code",
      "metadata": {
        "id": "KCTFNYshfTdC"
      },
      "source": [
        ""
      ],
      "execution_count": 17,
      "outputs": []
    },
    {
      "cell_type": "markdown",
      "metadata": {
        "id": "aGa0842IOAki"
      },
      "source": [
        "We are expecting `N` to be 150. So if you happen to end up with 151, you will need to check why and update your code accordingly! (It likely has something to do with a blank line)"
      ]
    },
    {
      "cell_type": "code",
      "metadata": {
        "id": "filfeUOAb8eT",
        "colab": {
          "base_uri": "https://localhost:8080/"
        },
        "outputId": "a0114553-c3aa-47b1-9697-dcf747977c27"
      },
      "source": [
        "(x, y, classes) = read_dataset(\"iris.data\")\n",
        "print(x.shape)\n",
        "print(y.shape)\n",
        "print(classes)"
      ],
      "execution_count": 41,
      "outputs": [
        {
          "output_type": "stream",
          "name": "stdout",
          "text": [
            "(150, 4)\n",
            "(150,)\n",
            "['Iris-setosa' 'Iris-versicolor' 'Iris-virginica']\n"
          ]
        }
      ]
    },
    {
      "cell_type": "markdown",
      "metadata": {
        "id": "T_jsScXRsYxt"
      },
      "source": [
        "## Understanding the features\n",
        "\n",
        "Usually, I would also encourage you to examine the raw data itself (e.g. images of the flowers). This is so that you can gain insights into what might be useful to distinguish between the classes (colour? size?) Unfortunately, we are not provided with these, but only pre-processed features. So we can skip the explicit feature encoding step and just use the pre-processed features directly.\n",
        "\n",
        "The dataset itself does not give you more information about the four features, but they actually represent the: \n",
        "1. sepal length (cm)\n",
        "2. sepal width (cm)\n",
        "3. petal length (cm)\n",
        "4. petal width (cm)\n",
        "\n",
        "Now, to gain a better understanding of the features, try to compute some statistics for each of them. For example,\n",
        "- What is the minimum and maximum value for each feature?\n",
        "- What is the mean, median and standard deviation for each?\n",
        "\n",
        "It is also a good idea to obtain the statistics above separately for each class. So you can try to find each attribute's range, mean, median, and standard deviation separately for class 0, class 1 and class 2. You may discover some patterns and get some ideas about what features will be useful for certain classes. For example, perhaps you might notice that one of the features have a completely different range for class 0 vs class 2? \n",
        "\n",
        "Tip: `x[y==2]` gives you all the feature vectors belonging to class 2\n"
      ]
    },
    {
      "cell_type": "code",
      "metadata": {
        "id": "G0wKamlxdNyb",
        "colab": {
          "base_uri": "https://localhost:8080/"
        },
        "outputId": "bd4d33a3-0f35-4b22-80d2-87071729e51c"
      },
      "source": [
        "# Free-style coding! Practice your NumPy skills here by computing some \n",
        "# statistics for the features\n",
        "\n",
        "# Example: compute the min for each attribute\n",
        "print(\"Each attribute\")\n",
        "print(f\"Mins: {x.min(axis=0)}\")\n",
        "print(f\"Maxs: {x.max(axis=0)}\")\n",
        "print(f\"Ranges: {np.ptp(x, axis=0)}\")\n",
        "\n",
        "print(f\"{classes}\")\n",
        "print(f\"Ranges: {x[y==0].ptp()} {x[y==1].ptp()} {x[y==2].ptp()}\")\n",
        "print(f\"Mean: {x[y==0].mean()} {x[y==1].mean()} {x[y==2].mean()}\")\n",
        "print(f\"Median: {np.median(x[y==0])} {np.median(x[y==1])} {np.median(x[y==2])}\")\n",
        "print(f\"s.d.: {x[y==0].std()} {x[y==1].std()} {x[y==2].std()}\")\n",
        "\n"
      ],
      "execution_count": 47,
      "outputs": [
        {
          "output_type": "stream",
          "name": "stdout",
          "text": [
            "Each attribute\n",
            "Mins: [4.3 2.  1.  0.1]\n",
            "Maxs: [7.9 4.4 6.9 2.5]\n",
            "Ranges: [3.6 2.4 5.9 2.4]\n",
            "['Iris-setosa' 'Iris-versicolor' 'Iris-virginica']\n",
            "Ranges: 5.7 6.0 6.5\n",
            "Mean: 2.533 3.573000000000001 4.285\n",
            "Median: 2.0999999999999996 3.3 4.15\n",
            "s.d.: 1.8429625606615019 1.7579735492890671 1.910595456919125\n"
          ]
        }
      ]
    },
    {
      "cell_type": "markdown",
      "metadata": {
        "id": "NNKLNI2-cARf"
      },
      "source": [
        "### Visualising the features\n",
        "\n",
        "Now let's try to *really* understand the features by examining how they correlate. A very useful thing you can do is to visualise your features. This may give you better insights that you might have missed when looking at just the numbers. \n",
        "\n",
        "We will use an external Python library called `matplotlib` for plotting. If you are working locally on your computer, you may need to install the library with `pip3 install matplotlib`."
      ]
    },
    {
      "cell_type": "markdown",
      "metadata": {
        "id": "_g0pIs3bjw3J"
      },
      "source": [
        "### Plotting a scatter plot for two features\n",
        "\n",
        "Let us first try to examine whether the features are actually any good for classifying the flowers. Let's try to plot a scatter plot for the first two features (sepal length vs sepal width)."
      ]
    },
    {
      "cell_type": "code",
      "metadata": {
        "id": "-ZYyPqKCj61d",
        "colab": {
          "base_uri": "https://localhost:8080/",
          "height": 282
        },
        "outputId": "9beb7fc9-1833-4597-fd3e-9b797f3173f1"
      },
      "source": [
        "import matplotlib.pyplot as plt\n",
        "\n",
        "feature_names = [\"Sepal length\", \"Sepal width\", \"Petal length\", \"Petal width\"]\n",
        "                        \n",
        "plt.figure()\n",
        "plt.scatter(x[:,0], x[:,1], c=y, cmap=plt.cm.Set1, edgecolor='k')\n",
        "plt.xlabel(feature_names[0])\n",
        "plt.ylabel(feature_names[1])\n",
        "plt.show()"
      ],
      "execution_count": 48,
      "outputs": [
        {
          "output_type": "display_data",
          "data": {
            "image/png": "[encoded data removed]",
            "text/plain": [
              "<Figure size 432x288 with 1 Axes>"
            ]
          },
          "metadata": {
            "needs_background": "light"
          }
        }
      ]
    },
    {
      "cell_type": "markdown",
      "metadata": {
        "id": "yKfTuBm-kaiS"
      },
      "source": [
        "If you look carefully at the scatter plot above, you may find that with only these two features, you can actually already separate one of the classes (in red, this is actually \"setosa\") from the other two classes with a straight line (a linear classifier). So these kinds of observation will be useful to inform your machine learning design.\n",
        "\n",
        "Now, let’s try visualising the remaining two features (petal length vs petal width)."
      ]
    },
    {
      "cell_type": "code",
      "metadata": {
        "id": "weu5VfHMmV5s",
        "colab": {
          "base_uri": "https://localhost:8080/",
          "height": 279
        },
        "outputId": "19bb2124-209c-402a-b68f-1fbbc04c8f0b"
      },
      "source": [
        "# TODO: Complete ????\n",
        "\n",
        "plt.figure()\n",
        "plt.scatter(x[:,2], x[:,3], c=y, cmap=plt.cm.Set1, edgecolor='k')\n",
        "plt.xlabel('Petal length')\n",
        "plt.ylabel('Petal width')\n",
        "plt.show()"
      ],
      "execution_count": 49,
      "outputs": [
        {
          "output_type": "display_data",
          "data": {
            "image/png": "[encoded data removed]",
            "text/plain": [
              "<Figure size 432x288 with 1 Axes>"
            ]
          },
          "metadata": {
            "needs_background": "light"
          }
        }
      ]
    },
    {
      "cell_type": "markdown",
      "metadata": {
        "id": "SRaBst-fmb8d"
      },
      "source": [
        "Woah! You should see something even better! The first class (in red) forms its own tight cluster, while the other two are just about separable. So using just these two features might even be enough for our classifier!\n",
        "\n",
        "Such visualisation activities can actually be very useful for you to decide on what features to use!\n",
        "\n",
        "If you want, you can try further combinations/views, for example sepal width and petal width."
      ]
    },
    {
      "cell_type": "markdown",
      "metadata": {
        "id": "O3WYf3LhvGoX"
      },
      "source": [
        "### Plotting histograms\n",
        "\n",
        "While the statistics you computed earlier (min, max, median, etc.) might be useful, sometimes you can get more insights by **visualising** the value of the features itself.\n",
        "\n",
        "So let's say we want to check the values of petal width (since it seems like a good feature), separately for the three classes. We can plot a histogram of the petal width distribution for each of the classes."
      ]
    },
    {
      "cell_type": "code",
      "metadata": {
        "id": "UjzPBokrvRW-",
        "colab": {
          "base_uri": "https://localhost:8080/",
          "height": 281
        },
        "outputId": "11c5ed0e-97e0-4d14-9b75-aa5e6d7e9c70"
      },
      "source": [
        "fig, ax = plt.subplots(1,3) # plot subfigures in a 1x3 grid\n",
        "\n",
        "ax[0].hist(x[y==0, 2], color='r')\n",
        "ax[0].set(title=classes[0])\n",
        "\n",
        "ax[1].hist(x[y==1, 2], color='b')\n",
        "ax[1].set(title=classes[1])\n",
        "\n",
        "ax[2].hist(x[y==2, 2], color='g')\n",
        "ax[2].set(title=classes[2])\n",
        "\n",
        "plt.show()"
      ],
      "execution_count": 50,
      "outputs": [
        {
          "output_type": "display_data",
          "data": {
            "image/png": "[encoded data removed]",
            "text/plain": [
              "<Figure size 432x288 with 3 Axes>"
            ]
          },
          "metadata": {
            "needs_background": "light"
          }
        }
      ]
    },
    {
      "cell_type": "markdown",
      "metadata": {
        "id": "kaqBSm7ywh0w"
      },
      "source": [
        "You can see that \"setosa\" can clearly be distinguished from the other two classes by petal width. For \"versicolor\" and \"virginica\", there is a bit of an overlap when the petal width is between around 4.5-5.1. So there will be a bit of uncertainty here.\n",
        "\n",
        "You can also use a Python library called [Pandas](https://pandas.pydata.org) to help with analysing your dataset and features. We won't cover this in this lab tutorial. "
      ]
    },
    {
      "cell_type": "markdown",
      "metadata": {
        "id": "1ewHfcgINbLb"
      },
      "source": [
        "## Pre-process your data\n",
        "\n",
        "Now, remember that you will need a **test set** that is separate from the **training set**.\n",
        "\n",
        "While some datasets provide pre-splitted training and test datasets, others do not. \n",
        "\n",
        "The Iris dataset has not been pre-splitted. So you will have to split this yourself.\n",
        "\n",
        "So divide your dataset at random into training and testing.\n",
        "\n",
        "Make sure that you do not end up with one class all being in the test set!\n",
        "\n",
        "I used NumPy's `np.random` in the code below, but you are free to use Python's `random` if you prefer and modify accordingly.\n"
      ]
    },
    {
      "cell_type": "code",
      "metadata": {
        "id": "OLyRKQ4cPsx3"
      },
      "source": [
        "from numpy.random import default_rng\n",
        "\n",
        "def split_dataset(x, y, test_proportion, random_generator=default_rng()):\n",
        "    \"\"\" Split dataset into training and test sets, according to the given \n",
        "        test set proportion.\n",
        "    \n",
        "    Args:\n",
        "        x (np.ndarray): Instances, numpy array with shape (N,K)\n",
        "        y (np.ndarray): Class labels, numpy array with shape (N,)\n",
        "        test_proprotion (float): the desired proportion of test examples \n",
        "                                 (0.0-1.0)\n",
        "        random_generator (np.random.Generator): A random generator\n",
        "\n",
        "    Returns:\n",
        "        tuple: returns a tuple of (x_train, x_test, y_train, y_test) \n",
        "               - x_train (np.ndarray): Training instances shape (N_train, K)\n",
        "               - x_test (np.ndarray): Test instances shape (N_test, K)\n",
        "               - y_train (np.ndarray): Training labels, shape (N_train, )\n",
        "               - y_test (np.ndarray): Test labels, shape (N_train, )\n",
        "    \"\"\"\n",
        "\n",
        "    # TODO: Complete this function\n",
        "    sample = np.random.random(x.shape[0])\n",
        "    x_train = x[sample > test_proportion]\n",
        "    y_train = y[sample > test_proportion]\n",
        "    x_test = x[sample <= test_proportion]\n",
        "    y_test = y[sample <= test_proportion]\n",
        "\n",
        "    return (x_train, x_test, y_train, y_test)\n",
        "\n"
      ],
      "execution_count": 74,
      "outputs": []
    },
    {
      "cell_type": "markdown",
      "metadata": {
        "id": "bsO28HzedhvT"
      },
      "source": [
        "And we'll now just split the dataset into 80% for training and 20% for testing.\n",
        "\n",
        "Remember to initialise the random number generator with a seed number (just choose any number).\n",
        "\n",
        "Tip: Random numbers are not really random in computers. They are **pseudo-random** because you can reproduce the same 'random' sequence with a fixed seed number. Using seed numbers is important in your scientific experiments so that you can reproduce your experimental results!"
      ]
    },
    {
      "cell_type": "code",
      "metadata": {
        "id": "RVWFWhzodSmS",
        "colab": {
          "base_uri": "https://localhost:8080/"
        },
        "outputId": "ed665b0a-2abe-4b44-e719-eef21efe950a"
      },
      "source": [
        "seed = 60012\n",
        "rg = default_rng(seed)\n",
        "\n",
        "x_train, x_test, y_train, y_test = split_dataset(x, y, \n",
        "                                                 test_proportion=0.2, \n",
        "                                                 random_generator=rg)\n",
        "print(x_train.shape)\n",
        "print(x_test.shape)\n",
        "print(y_train.shape)\n",
        "print(y_test.shape)\n",
        "print(set(y_train)) # Sanity check to ensure all labels are in the training set\n",
        "print(set(y_test)) "
      ],
      "execution_count": 75,
      "outputs": [
        {
          "output_type": "stream",
          "name": "stdout",
          "text": [
            "(120, 4)\n",
            "(30, 4)\n",
            "(120,)\n",
            "(30,)\n",
            "{0, 1, 2}\n",
            "{0, 1, 2}\n"
          ]
        }
      ]
    },
    {
      "cell_type": "markdown",
      "metadata": {
        "id": "Vg6lFRv3eOZr"
      },
      "source": [
        "## Random Baseline Classifier\n",
        "\n",
        "Now that the data is ready, we can finally construct your classifier.\n",
        "\n",
        "We will always need to compare the performance of our dataset against something. So let us first construct a lower-bound, baseline classifier that predicts a class label at random.\n",
        "\n",
        "We will create a class called `RandomClassifier`, which has two methods:\n",
        "- `fit()` to train the classifier given the training examples `x` and their corresponding labels `y\n",
        "- `predict()` to predict a set of labels given some examples `x`.\n",
        "\n",
        "Obviously, there is no need to 'train' a random classifier. Instead, we only need to store the unique class labels that the classifier can use to make a random prediction.\n",
        "\n"
      ]
    },
    {
      "cell_type": "code",
      "metadata": {
        "id": "Mek8A-ldhTSY"
      },
      "source": [
        "class RandomClassifier:\n",
        "    def __init__(self, random_generator=default_rng()):\n",
        "        self.random_generator = random_generator\n",
        "        self.unique_y = [] \n",
        "\n",
        "    def fit(self, x, y):\n",
        "        \"\"\" Fit the training data to the classifier.\n",
        "\n",
        "        Args:\n",
        "        x (np.ndarray): Instances, numpy array with shape (N,K)\n",
        "        y (np.ndarray): Class labels, numpy array with shape (N,)\n",
        "        \"\"\"\n",
        "        # TODO: Complete this to \"remember\" the unique labels in y,\n",
        "        # so that the classifier knows what labels it can predict\n",
        "        self.unique_y = np.unique(y)\n",
        "\n",
        "    def predict(self, x):\n",
        "        \"\"\" Perform prediction given some examples.\n",
        "\n",
        "        Args:\n",
        "        x (np.ndarray): Instances, numpy array with shape (N,K)\n",
        "\n",
        "        Returns:\n",
        "        y (np.ndarray): Predicted class labels, numpy array with shape (N,)\n",
        "        \"\"\"        \n",
        "        # TODO: Complete this to predict a random label\n",
        "        random_indices = self.random_generator.integers(0, len(self.unique_y), len(x))\n",
        "        return self.unique_y[random_indices]\n",
        "\n"
      ],
      "execution_count": 82,
      "outputs": []
    },
    {
      "cell_type": "code",
      "metadata": {
        "id": "GPJI6UGxoW4l",
        "colab": {
          "base_uri": "https://localhost:8080/"
        },
        "outputId": "1108b00f-d52f-424b-ba94-0fd753300064"
      },
      "source": [
        "random_classifier = RandomClassifier(rg)\n",
        "random_classifier.fit(x_train, y_train)\n",
        "random_predictions = random_classifier.predict(x_test)\n",
        "print(random_predictions)"
      ],
      "execution_count": 83,
      "outputs": [
        {
          "output_type": "stream",
          "name": "stdout",
          "text": [
            "[0 0 2 1 1 2 1 2 1 1 0 1 0 1 2 1 2 2 2 2 1 1 2 2 2 0 1 0 0 0]\n"
          ]
        }
      ]
    },
    {
      "cell_type": "markdown",
      "metadata": {
        "id": "O4yZIOgepd2L"
      },
      "source": [
        "## Evaluation\n",
        "\n",
        "Now, let's try to evaluate our random classifier. Let's try to implement the accuracy metric as discussed in our lecture."
      ]
    },
    {
      "cell_type": "code",
      "metadata": {
        "id": "zfjzLLwUqDC-"
      },
      "source": [
        "def compute_accuracy(y_gold, y_prediction):\n",
        "    \"\"\" Compute the accuracy given the ground truth and predictions\n",
        "\n",
        "    Args:\n",
        "    y_gold (np.ndarray): the correct ground truth/gold standard labels\n",
        "    y_prediction (np.ndarray): the predicted labels\n",
        "\n",
        "    Returns:\n",
        "    float : the accuracy\n",
        "    \"\"\"\n",
        "\n",
        "    assert len(y_gold) == len(y_prediction) \n",
        "    \n",
        "    # TODO: Complete this function\n",
        "    print(y_gold == y_prediction)\n",
        "    return len(y_gold[y_gold == y_prediction]) / len(y_gold)"
      ],
      "execution_count": 93,
      "outputs": []
    },
    {
      "cell_type": "code",
      "metadata": {
        "id": "JCuFiRqRuM91",
        "colab": {
          "base_uri": "https://localhost:8080/"
        },
        "outputId": "5a840247-033a-44eb-fa73-e8dfec9cb071"
      },
      "source": [
        "accuracy = compute_accuracy(y_test, random_predictions)\n",
        "print(accuracy)"
      ],
      "execution_count": 94,
      "outputs": [
        {
          "output_type": "stream",
          "name": "stdout",
          "text": [
            "[ True  True False False False False False False False False False  True\n",
            " False  True False  True False False False  True False False  True  True\n",
            "  True False False False False False]\n",
            "0.3\n"
          ]
        }
      ]
    },
    {
      "cell_type": "markdown",
      "metadata": {
        "id": "2LNLsjjiwPJi"
      },
      "source": [
        "## Nearest Neighbour Classifier\n",
        "\n",
        "Let's now try to construct a better classifier.\n",
        "\n",
        "Let's build a classifier which takes the test examples, and for each predicts the class label of the nearest training example according to the Euclidean distance metric $d(x^{(i)}, x^{(q)})=\\sqrt{\\sum_f^F (x_f^{(i)} - x_f^{(q)})^2}$.\n",
        "\n",
        "We will construct a class called `NearestNeighbourClassifier`. To make our framework reusable, this class will have the same methods as `RandomClassifier`: `fit()` and `predict()`.\n",
        "\n",
        "Again, because this is a 'lazy learner', our focus will be on the `predict()` method. The `fit()` method will only need to store the instances and the corresponding labels."
      ]
    },
    {
      "cell_type": "code",
      "metadata": {
        "id": "xtnx_HjTyA2N"
      },
      "source": [
        "class NearestNeighbourClassifier:\n",
        "    def __init__(self):\n",
        "        self.x = np.array([])\n",
        "        self.y = np.array([])\n",
        "\n",
        "    def fit(self, x, y):\n",
        "        \"\"\" Fit the training data to the classifier.\n",
        "\n",
        "        Args:\n",
        "        x (np.ndarray): Instances, numpy array with shape (N,K)\n",
        "        y (np.ndarray): Class labels, numpy array with shape (N,)\n",
        "        \"\"\"\n",
        "        # TODO: Store the data in self.x and self.y\n",
        "        self.x = x\n",
        "        self.y = y\n",
        "\n",
        "    def predict(self, x):\n",
        "        \"\"\" Perform prediction given some examples.\n",
        "\n",
        "        Args:\n",
        "        x (np.ndarray): Instances, numpy array with shape (N,K)\n",
        "\n",
        "        Returns:\n",
        "        y (np.ndarray): Predicted class labels, numpy array with shape (N,)\n",
        "        \"\"\" \n",
        "        # TODO: Complete this method to predict the class of the \n",
        "        # nearest neighbour given a set of test instance\n",
        "        y = np.zeros((len(x), ), dtype=self.y.dtype)       \n",
        "        for (i, instance) in enumerate(x):\n",
        "            distances = np.sqrt(np.sum((instance-self.x)**2, axis=1))\n",
        "            min_index = np.argmin(distances)\n",
        "            y[i] = self.y[min_index]\n",
        "        return y\n",
        "\n"
      ],
      "execution_count": 95,
      "outputs": []
    },
    {
      "cell_type": "code",
      "metadata": {
        "id": "JBpJ8EjVy-bi",
        "colab": {
          "base_uri": "https://localhost:8080/"
        },
        "outputId": "3844c523-5f4f-47b6-be7e-ac7884a49aa2"
      },
      "source": [
        "nn_classifier = NearestNeighbourClassifier()\n",
        "nn_classifier.fit(x_train, y_train)\n",
        "nn_predictions = nn_classifier.predict(x_test)\n",
        "print(nn_predictions)"
      ],
      "execution_count": 96,
      "outputs": [
        {
          "output_type": "stream",
          "name": "stdout",
          "text": [
            "[0 0 0 0 0 0 0 0 0 0 1 1 1 1 1 1 1 2 1 2 1 2 2 2 2 2 2 2 2 2]\n"
          ]
        }
      ]
    },
    {
      "cell_type": "markdown",
      "metadata": {
        "id": "MC4ONOgF6u7c"
      },
      "source": [
        "## Evaluation (again)\n",
        "\n",
        "And let's evaluate our new nearest neighbour classifier. You should be able to achieve >90% accuracy. Not bad for such a simple classifier!"
      ]
    },
    {
      "cell_type": "code",
      "metadata": {
        "id": "aWRWsYurz1om",
        "colab": {
          "base_uri": "https://localhost:8080/"
        },
        "outputId": "4cf43c91-b8d8-4b88-ad8a-9610e6a6e660"
      },
      "source": [
        "accuracy = compute_accuracy(y_test, nn_predictions)\n",
        "print(accuracy)"
      ],
      "execution_count": 97,
      "outputs": [
        {
          "output_type": "stream",
          "name": "stdout",
          "text": [
            "[ True  True  True  True  True  True  True  True  True  True  True  True\n",
            "  True  True  True  True  True False  True  True False  True  True  True\n",
            "  True  True  True  True  True  True]\n",
            "0.9333333333333333\n"
          ]
        }
      ]
    },
    {
      "cell_type": "markdown",
      "metadata": {
        "id": "NNMajcyH7Vv5"
      },
      "source": [
        "## Summary\n",
        "\n",
        "And congratulations! You will have constructed a full pipeline for a classification task, and have built and evaluated your first classifier! \n",
        "\n",
        "I hope that this tutorial have given you a practical understanding of the pipeline at implementation level. I hope you have also gained an appreciation on why it is important to examine your data and features before embarking on any ML project. Hopefully you have also brushed up your Python+NumPy skills while you are at it!\n",
        "\n",
        "We will be coming back to these experiments in later tutorials and construct more complex classifiers. Till then, happy learning!\n"
      ]
    },
    {
      "cell_type": "markdown",
      "metadata": {
        "id": "yqle7HFj1FyV"
      },
      "source": [
        "## Bonus activity (Optional)\n",
        "\n",
        "We concluded from our visualisations that perhaps you may only need the last two features (i.e. petal width and petal height) to construct our classifier. Let's test our intuition and see whether we can achieve a good enough accuracy with only the last two features."
      ]
    },
    {
      "cell_type": "code",
      "metadata": {
        "id": "bPr1YEfJ3g8Z",
        "colab": {
          "base_uri": "https://localhost:8080/"
        },
        "outputId": "27ba0866-ee68-4b12-fbad-c4a03a9f7115"
      },
      "source": [
        "x_sub_train = x_train[:,-2:] # TODO: Extract only the last two columns of x_train\n",
        "x_sub_test = x_test[:,-2:] # TODO: Extract only the last two columns of x_test\n",
        "print(x_sub_train.shape)\n",
        "print(x_sub_test.shape)\n",
        "\n",
        "nn_classifier = NearestNeighbourClassifier()\n",
        "nn_classifier.fit(x_sub_train, y_train)\n",
        "nn_predictions = nn_classifier.predict(x_sub_test)\n",
        "print(nn_predictions)\n",
        "\n",
        "accuracy = compute_accuracy(y_test, nn_predictions)\n",
        "print(accuracy)\n"
      ],
      "execution_count": 99,
      "outputs": [
        {
          "output_type": "stream",
          "name": "stdout",
          "text": [
            "(120, 2)\n",
            "(30, 2)\n",
            "[0 0 0 0 0 0 0 0 0 0 1 1 1 1 1 1 1 2 1 2 1 2 2 2 1 2 2 2 2 2]\n",
            "[ True  True  True  True  True  True  True  True  True  True  True  True\n",
            "  True  True  True  True  True False  True  True False  True  True  True\n",
            " False  True  True  True  True  True]\n",
            "0.9\n"
          ]
        }
      ]
    },
    {
      "cell_type": "markdown",
      "metadata": {
        "id": "kNc3LZOS4qcA"
      },
      "source": [
        "I actually achieved a similar accuracy as before. Two of the predictions changed - one from correct to incorrect, the other from incorrect to correct. You can perhaps examine these feature vectors to try to figure out why?"
      ]
    }
  ]
}